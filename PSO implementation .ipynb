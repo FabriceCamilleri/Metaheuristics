{
 "cells": [
  {
   "cell_type": "markdown",
   "metadata": {},
   "source": [
    "# Particule Swam Optimization implementation\n",
    "\n",
    "PSO "
   ]
  },
  {
   "cell_type": "code",
   "execution_count": 194,
   "metadata": {},
   "outputs": [],
   "source": [
    "from functions import *\n",
    "import numpy as np\n",
    "import matplotlib as plt\n",
    "import time"
   ]
  },
  {
   "cell_type": "code",
   "execution_count": 200,
   "metadata": {},
   "outputs": [],
   "source": [
    "class F1_Shifted_Sphere:\n",
    "    \n",
    "    nbFitness = 0\n",
    "    \n",
    "    def __init__(self, dim, bounds):\n",
    "        self.dim = dim\n",
    "        self.bounds=bounds\n",
    "        F1_Shifted_Sphere.nbFitness = 0\n",
    "\n",
    "    def fitness(self, x):\n",
    "        z=0\n",
    "        F = 0\n",
    "        for i in range(0,x.shape[0]):\n",
    "            z = x[i] - sphere[i]\n",
    "            F = F + z*z;\n",
    "        F1_Shifted_Sphere.nbFitness += 1\n",
    "        \n",
    "        return F + f_bias[0]\n",
    "\n",
    "# definition of a class for Particle\n",
    "class Particle:\n",
    "    def __init__(self, problem):\n",
    "        self.problem=problem\n",
    "        self.position = np.random.uniform(low=self.problem.bounds[0], high=self.problem.bounds[1], size=self.problem.dim)\n",
    "        self.velocity = np.random.uniform(low=-(self.problem.bounds[1]-self.problem.bounds[0]) \\\n",
    "                                        , high=(self.problem.bounds[1]-self.problem.bounds[0]), size=self.problem.dim)\n",
    "        self.best_part_pos = self.position.copy()\n",
    "        self.fitness = self.problem.fitness(self.position)\n",
    "        self.best_fitness = self.fitness.copy()\n",
    "\n",
    "    def moveParticule (self, swarm):\n",
    "        #print (self.position)\n",
    "        self.velocity =  swarm.w * self.velocity  + \\\n",
    "            swarm.c1 * np.random.uniform(low=0, high=(self.best_part_pos - self.position), size=self.problem.dim) + \\\n",
    "            swarm.c2 * np.random.uniform(low=0, high=(swarm.best_swarm_position - self.position), size=self.problem.dim)\n",
    "        self.position = self.position + self.velocity\n",
    "        self.position=np.minimum(self.position, self.problem.bounds[1])\n",
    "        self.position=np.maximum(self.position, self.problem.bounds[0])\n",
    "        #print (self.position)\n",
    "        self.fitness = self.problem.fitness(self.position)\n",
    "        #print(self.fitness)\n",
    "        if self.fitness < self.best_fitness:\n",
    "            self.best_fitness = self.fitness\n",
    "            self.best_part_pos = self.position\n",
    "            \n",
    "            \n",
    "# definition of a class for Swarm\n",
    "class Swarm:\n",
    "\n",
    "    def __init__(self, problem, numOfParticule=5, w=0.7, c1=1.4, c2=1.4):\n",
    "        self.w=w\n",
    "        self.c1=c1\n",
    "        self.c2=c2\n",
    "        self.problem=problem\n",
    "        self.swarm_list = [Particle(problem) for i in range(numOfParticule)]\n",
    "        self.best_swarm_position = self.swarm_list[0].position\n",
    "        self.best_swarm_fitness = self.swarm_list[0].fitness\n",
    "        for particule in self.swarm_list:\n",
    "            if particule.fitness < self.best_swarm_fitness:\n",
    "                self.best_swarm_position = particule.position\n",
    "                self.best_swarm_fitness = particule.fitness\n",
    "        \n",
    "\n",
    "        \n",
    "    def moveSwarm(self):\n",
    "        for particule in self.swarm_list:\n",
    "            particule.moveParticule(self) # update the position of particle\n",
    "            if particule.fitness < self.best_swarm_fitness:  # check the position if it's best for swarm\n",
    "                self.best_swarm_position = particule.position\n",
    "                self.best_swarm_fitness = particule.fitness\n",
    "\n",
    "# definition of a class for Optimize\n",
    "class Optimize:\n",
    "        def __init__(self,swarm, numOfEpochs=0, epsilon=0, N=100 ):\n",
    "            self.epsilon=epsilon\n",
    "            self.N=N\n",
    "            self.swarm=swarm\n",
    "            \n",
    "        \n",
    "        def run(self):\n",
    "            ts=time.time()\n",
    "            progress = []\n",
    "            previousMin=self.swarm.best_swarm_fitness\n",
    "            progress.append(previousMin)\n",
    "            carryOn = True\n",
    "            i = 0\n",
    "            while carryOn: \n",
    "                self.swarm.moveSwarm()\n",
    "                progress.append(self.swarm.best_swarm_fitness)\n",
    "                # print('Run: {0} | Best fitness: {1}'.format(i, swarm.best_swarm_fitness))\n",
    "                if previousMin > self.swarm.best_swarm_fitness:\n",
    "                    previousMin=self.swarm.best_swarm_fitness\n",
    "                if i>= self.N :\n",
    "                    if (progress[- self.N] - progress[-1]) <= self.epsilon:\n",
    "                        carryOn = False\n",
    "                i += 1\n",
    "            return progress, self.swarm.problem.nbFitness, time.time()-ts\n",
    "        "
   ]
  },
  {
   "cell_type": "code",
   "execution_count": 201,
   "metadata": {
    "scrolled": true
   },
   "outputs": [
    {
     "data": {
      "text/plain": [
       "6600"
      ]
     },
     "execution_count": 201,
     "metadata": {},
     "output_type": "execute_result"
    }
   ],
   "source": [
    "\n",
    "problem=F1_Shifted_Sphere(50, [-100,100])\n",
    "swarm=Swarm(problem, numOfParticule=30, w=0.2, c1=1.5, c2=1.2)\n",
    "\n",
    "optimize = Optimize(swarm, epsilon=0, N=30)\n",
    "res = optimize.run()\n",
    "res[1]"
   ]
  },
  {
   "cell_type": "code",
   "execution_count": 137,
   "metadata": {},
   "outputs": [
    {
     "data": {
      "text/plain": [
       "320118.42162031354"
      ]
     },
     "execution_count": 137,
     "metadata": {},
     "output_type": "execute_result"
    }
   ],
   "source": [
    "problem=F1_Shifted_Sphere(500, [-100,100])\n",
    "swarm=Swarm(problem, numOfParticule=1000, w=0.2, c1=1.5, c2=1.2)\n",
    "optimize = Optimize(swarm, epsilon=0, N=300)\n",
    "res = optimize.run()\n",
    "res = np.array(res)\n",
    "res[-1]"
   ]
  }
 ],
 "metadata": {
  "kernelspec": {
   "display_name": "Python 3",
   "language": "python",
   "name": "python3"
  },
  "language_info": {
   "codemirror_mode": {
    "name": "ipython",
    "version": 3
   },
   "file_extension": ".py",
   "mimetype": "text/x-python",
   "name": "python",
   "nbconvert_exporter": "python",
   "pygments_lexer": "ipython3",
   "version": "3.7.7"
  }
 },
 "nbformat": 4,
 "nbformat_minor": 2
}
